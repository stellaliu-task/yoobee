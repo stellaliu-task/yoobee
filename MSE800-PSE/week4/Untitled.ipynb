{
 "cells": [
  {
   "cell_type": "code",
   "execution_count": 5,
   "id": "53487e0b-6394-4734-b6c7-250680885c70",
   "metadata": {},
   "outputs": [
    {
     "name": "stdout",
     "output_type": "stream",
     "text": [
      "   EmailID                        Subject                 Sender  \\\n",
      "0        1             Win a Free iPhone!       promo@winbig.com   \n",
      "1        2  Important: Account Suspension   support@fakemail.com   \n",
      "2        3      Newsletter - April Update  news@legitcompany.com   \n",
      "3        4         You have been selected       lottery@scam.org   \n",
      "4        5            Team Meeting Agenda  colleague@company.com   \n",
      "\n",
      "                                             Content  ContainsLink  IsSpam  \n",
      "0          Click here to claim your free iPhone now!          True    True  \n",
      "1           We noticed unusual activity. Verify now.          True    True  \n",
      "2                   Here is your monthly newsletter.         False   False  \n",
      "3         Congratulations! You are our lucky winner!          True    True  \n",
      "4  Please find the agenda for tomorrow’s meeting ...         False   False  \n"
     ]
    }
   ],
   "source": [
    "import pandas as pd\n",
    "data= pd.read_csv('junk_mail.csv')\n",
    "print(data.tail())"
   ]
  },
  {
   "cell_type": "code",
   "execution_count": 7,
   "id": "dc6a8b53-37bf-477a-905e-80287b9cc178",
   "metadata": {},
   "outputs": [
    {
     "name": "stderr",
     "output_type": "stream",
     "text": [
      "2025-05-03 10:11:19.461388: I tensorflow/core/platform/cpu_feature_guard.cc:210] This TensorFlow binary is optimized to use available CPU instructions in performance-critical operations.\n",
      "To enable the following instructions: SSE4.1 SSE4.2 AVX AVX2 FMA, in other operations, rebuild TensorFlow with the appropriate compiler flags.\n"
     ]
    },
    {
     "name": "stdout",
     "output_type": "stream",
     "text": [
      "tf version is: 2.17.0\n"
     ]
    }
   ],
   "source": [
    "import tensorflow as tf\n",
    "print('tf version is:', tf.__version__)"
   ]
  },
  {
   "cell_type": "code",
   "execution_count": null,
   "id": "68d6505f-9d6b-4b3f-8678-c046b29e119f",
   "metadata": {},
   "outputs": [],
   "source": []
  }
 ],
 "metadata": {
  "kernelspec": {
   "display_name": "Python [conda env:pandaEnv]",
   "language": "python",
   "name": "conda-env-pandaEnv-py"
  },
  "language_info": {
   "codemirror_mode": {
    "name": "ipython",
    "version": 3
   },
   "file_extension": ".py",
   "mimetype": "text/x-python",
   "name": "python",
   "nbconvert_exporter": "python",
   "pygments_lexer": "ipython3",
   "version": "3.12.9"
  }
 },
 "nbformat": 4,
 "nbformat_minor": 5
}

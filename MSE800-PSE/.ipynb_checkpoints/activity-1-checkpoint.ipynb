{
 "cells": [
  {
   "cell_type": "code",
   "execution_count": 64,
   "id": "36709b56-9468-4778-a464-908fe4a2a2ad",
   "metadata": {},
   "outputs": [
    {
     "name": "stdout",
     "output_type": "stream",
     "text": [
      "The average temperature: 18.342857142857145\n",
      "The highest temperature: 30.0\n",
      "The lowest temperature: 2.0\n",
      "Celsius 18.5 Fahrenheit: 65.3\n",
      "Celsius 19.0 Fahrenheit: 66.2\n",
      "Celsius 20.0 Fahrenheit: 68.0\n",
      "Celsius 25.0 Fahrenheit: 77.0\n",
      "Celsius 2.0 Fahrenheit: 35.6\n",
      "Celsius 30.0 Fahrenheit: 86.0\n",
      "Celsius 13.9 Fahrenheit: 57.02\n",
      "Days with a temperature greater than 20°C: [[4]\n",
      " [6]]\n"
     ]
    }
   ],
   "source": [
    "import numpy as np\n",
    "temperatures = np.array([18.5, 19, 20, 25.0, 2, 30, 13.9])\n",
    "print('The average temperature:', np.mean(temperatures))\n",
    "print('The highest temperature:', np.max(temperatures))\n",
    "print('The lowest temperature:', np.min(temperatures))\n",
    "\n",
    "for item in temperatures:\n",
    "    print('Celsius', item,'Fahrenheit:', item* 9/5 + 32)\n",
    "\n",
    "indexes = np.argwhere(temperatures > 20)\n",
    "print('Days with a temperature greater than 20°C:', indexes+1)"
   ]
  },
  {
   "cell_type": "code",
   "execution_count": null,
   "id": "0676165c-c275-4439-98e4-c018b15afe64",
   "metadata": {},
   "outputs": [],
   "source": []
  }
 ],
 "metadata": {
  "kernelspec": {
   "display_name": "Python [conda env:myEnv]",
   "language": "python",
   "name": "conda-env-myEnv-py"
  },
  "language_info": {
   "codemirror_mode": {
    "name": "ipython",
    "version": 3
   },
   "file_extension": ".py",
   "mimetype": "text/x-python",
   "name": "python",
   "nbconvert_exporter": "python",
   "pygments_lexer": "ipython3",
   "version": "3.12.9"
  }
 },
 "nbformat": 4,
 "nbformat_minor": 5
}

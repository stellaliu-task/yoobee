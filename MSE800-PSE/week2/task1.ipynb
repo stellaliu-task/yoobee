{
 "cells": [
  {
   "cell_type": "code",
   "execution_count": 4,
   "id": "1251e438-41a1-4efd-8383-14635b578ea8",
   "metadata": {},
   "outputs": [
    {
     "data": {
      "text/plain": [
       "18"
      ]
     },
     "execution_count": 4,
     "metadata": {},
     "output_type": "execute_result"
    }
   ],
   "source": [
    "round(4.3*4.3)"
   ]
  },
  {
   "cell_type": "code",
   "execution_count": 6,
   "id": "a63736a8-0337-4b9d-bfa2-743c490b3317",
   "metadata": {},
   "outputs": [
    {
     "data": {
      "text/plain": [
       "12"
      ]
     },
     "execution_count": 6,
     "metadata": {},
     "output_type": "execute_result"
    }
   ],
   "source": [
    "abs(-12)"
   ]
  },
  {
   "cell_type": "code",
   "execution_count": 8,
   "id": "f34ebce7-5420-4dc3-a571-f68c8eb54401",
   "metadata": {},
   "outputs": [
    {
     "data": {
      "text/plain": [
       "-12"
      ]
     },
     "execution_count": 8,
     "metadata": {},
     "output_type": "execute_result"
    }
   ],
   "source": [
    "int(-12.3)"
   ]
  },
  {
   "cell_type": "code",
   "execution_count": 12,
   "id": "8501c591-f54d-4289-82dc-67a01650370c",
   "metadata": {},
   "outputs": [
    {
     "data": {
      "text/plain": [
       "(13.86, 13)"
      ]
     },
     "execution_count": 12,
     "metadata": {},
     "output_type": "execute_result"
    }
   ],
   "source": [
    "def area(x,y):\n",
    "    area_land = x*y\n",
    "    int_area = int(area_land)\n",
    "    return area_land, int_area\n",
    "#input()\n",
    "area(3.3,4.2)"
   ]
  },
  {
   "cell_type": "code",
   "execution_count": 38,
   "id": "e0e24a52-9ce3-4903-9306-78ca3cfa91b2",
   "metadata": {},
   "outputs": [
    {
     "data": {
      "text/plain": [
       "2"
      ]
     },
     "execution_count": 38,
     "metadata": {},
     "output_type": "execute_result"
    }
   ],
   "source": [
    "def factorial(n):   \n",
    "    int_factorial =1\n",
    "    for i in range(1,n+1):\n",
    "        if i > 0:\n",
    "            int_factorial *= i\n",
    "    return int_factorial\n",
    "factorial(2)"
   ]
  },
  {
   "cell_type": "code",
   "execution_count": null,
   "id": "deb0e9cd-4b59-4f8d-bd83-7c775764fcfb",
   "metadata": {},
   "outputs": [],
   "source": []
  }
 ],
 "metadata": {
  "kernelspec": {
   "display_name": "Python [conda env:myEnv]",
   "language": "python",
   "name": "conda-env-myEnv-py"
  },
  "language_info": {
   "codemirror_mode": {
    "name": "ipython",
    "version": 3
   },
   "file_extension": ".py",
   "mimetype": "text/x-python",
   "name": "python",
   "nbconvert_exporter": "python",
   "pygments_lexer": "ipython3",
   "version": "3.12.9"
  }
 },
 "nbformat": 4,
 "nbformat_minor": 5
}

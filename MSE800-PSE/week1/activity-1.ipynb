{
 "cells": [
  {
   "cell_type": "code",
   "execution_count": null,
   "id": "c7506876-c2bd-47d2-aed2-3457faefeca5",
   "metadata": {},
   "outputs": [],
   "source": [
    "import numpy as np\n",
    "temperatures = np.array([18.5, 19, 20, 25.0, 2, 30, 13.9])\n",
    "print('The average temperature:', np.mean(temperatures))\n",
    "print('\\n')\n",
    "print('The highest temperature:', np.max(temperatures))\n",
    "print('\\n')\n",
    "print('The lowest temperature:', np.min(temperatures))\n",
    "print('\\n')\n",
    "\n",
    "for item in temperatures:\n",
    "    print('Celsius', item,'Fahrenheit:', item* 9/5 + 32)\n",
    "print('\\n')\n",
    "\n",
    "indexes = np.argwhere(temperatures > 20)\n",
    "print('Days with a temperature greater than 20°C:', indexes+1)"
   ]
  }
 ],
 "metadata": {
  "kernelspec": {
   "display_name": "Python [conda env:myEnv]",
   "language": "python",
   "name": "conda-env-myEnv-py"
  },
  "language_info": {
   "codemirror_mode": {
    "name": "ipython",
    "version": 3
   },
   "file_extension": ".py",
   "mimetype": "text/x-python",
   "name": "python",
   "nbconvert_exporter": "python",
   "pygments_lexer": "ipython3",
   "version": "3.12.9"
  }
 },
 "nbformat": 4,
 "nbformat_minor": 5
}
